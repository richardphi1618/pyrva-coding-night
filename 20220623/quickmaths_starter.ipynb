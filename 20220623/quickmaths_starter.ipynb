{
 "cells": [
  {
   "cell_type": "markdown",
   "metadata": {},
   "source": [
    "# Quickmaths PyRVA\n",
    "June 23, 2022"
   ]
  },
  {
   "cell_type": "markdown",
   "metadata": {},
   "source": [
    "## Challenge\n",
    "You must solve 1000 of these math problems that are outputted in the following format {number} {operation} {number} to get the flag. \n",
    "Division is integer division using the // operator. \n",
    "The input is being checked through python input() function. \n",
    "Good luck! "
   ]
  },
  {
   "cell_type": "markdown",
   "metadata": {},
   "source": [
    "## Connect\n",
    "[Netcat](https://www.mankier.com/1/netcat) is a command line utility that for creating network socket connections.\n",
    "\n",
    "Every machine on the network is connectable by it's ip address (routing) through ports (application) based on a server/client principle.\n",
    "\n",
    "Your machine (client) can make a request to a port of a remote machine (server) and if there is an application listening for connections on that port, a socket connection can be established.\n",
    "\n",
    "*Internet Assigned Numbers Authority* (IANA) maintains a [list](https://www.iana.org/assignments/service-names-port-numbers/service-names-port-numbers.txt) of \"well-known\" ports, but truthfully, these port assignments are arbitrary and can be re-used whenever the client and server are both in agreement. Generally speaking, you won't know if there is an application listening on a machine at a given port until you try to connect to it. If you get a response, we can assume the port is open and ready for connections."
   ]
  },
  {
   "cell_type": "markdown",
   "metadata": {},
   "source": [
    "Today's challenge is being hosted at this address and port:"
   ]
  },
  {
   "cell_type": "code",
   "execution_count": null,
   "metadata": {},
   "outputs": [],
   "source": [
    "nc 44.202.214.112 1228"
   ]
  },
  {
   "cell_type": "markdown",
   "metadata": {},
   "source": [
    "By using a tool like [American Registry for Internet Numbers (ARIN)](https://search.arin.net/rdap/?query=44.202.214.112), we can discover that this address is owned by Amazon and the prompt tells us it is serving a python script at the available port."
   ]
  },
  {
   "cell_type": "markdown",
   "metadata": {},
   "source": [
    "\n",
    "It's going to take you a while to solve that many math problems manually or it might be easier to find a way to automate the process..."
   ]
  },
  {
   "cell_type": "markdown",
   "metadata": {},
   "source": [
    "## Python solution"
   ]
  },
  {
   "cell_type": "markdown",
   "metadata": {},
   "source": [
    "#### Create a virtual environment in your working directory.\n",
    "\n",
    "```\n",
    "python -m venv venv\n",
    "source venv/bin/activate\n",
    "```"
   ]
  },
  {
   "cell_type": "markdown",
   "metadata": {},
   "source": [
    "#### Import"
   ]
  },
  {
   "cell_type": "markdown",
   "metadata": {},
   "source": [
    "Feel free to experiment with any set of tools you would like, but one such tool that creates a wrapper for rapid development with socket connections is [PwnTools](https://github.com/Gallopsled/pwntools/blob/dev/examples/remote.py)."
   ]
  },
  {
   "cell_type": "code",
   "execution_count": 1,
   "metadata": {},
   "outputs": [],
   "source": [
    "from pwn import *"
   ]
  },
  {
   "cell_type": "markdown",
   "metadata": {},
   "source": [
    "#### Variables"
   ]
  },
  {
   "cell_type": "code",
   "execution_count": 2,
   "metadata": {},
   "outputs": [],
   "source": [
    "remote_host = \"44.202.214.112\"\n",
    "remote_port = 1228"
   ]
  },
  {
   "cell_type": "markdown",
   "metadata": {},
   "source": [
    "#### Create a remote connection"
   ]
  },
  {
   "cell_type": "code",
   "execution_count": 3,
   "metadata": {},
   "outputs": [
    {
     "name": "stdout",
     "output_type": "stream",
     "text": [
      "[x] Opening connection to 44.202.214.112 on port 1228\n",
      "[x] Opening connection to 44.202.214.112 on port 1228: Trying 44.202.214.112\n",
      "[+] Opening connection to 44.202.214.112 on port 1228: Done\n"
     ]
    }
   ],
   "source": [
    "conn = remote(remote_host,remote_port)"
   ]
  },
  {
   "cell_type": "markdown",
   "metadata": {},
   "source": [
    "#### Read from remote socket"
   ]
  },
  {
   "cell_type": "code",
   "execution_count": 4,
   "metadata": {},
   "outputs": [
    {
     "name": "stdout",
     "output_type": "stream",
     "text": [
      "b'You must solve 1000 of these math problems that are outputted in the following format {number} {operation} {number} to get the flag. \\n'\n",
      "b'Division is integer division using the // operator. \\n'\n",
      "b'The input is being checked through python input() function. \\n'\n",
      "b'Good luck! \\n'\n"
     ]
    }
   ],
   "source": [
    "recieved = conn.recvline()\n",
    "\n",
    "while recieved != (b'\\n'):\n",
    "    print(f\"{recieved}\")\n",
    "    recieved = conn.recvline()\n"
   ]
  },
  {
   "cell_type": "markdown",
   "metadata": {},
   "source": [
    "#### Write to remote socket"
   ]
  },
  {
   "cell_type": "code",
   "execution_count": 5,
   "metadata": {},
   "outputs": [
    {
     "name": "stdout",
     "output_type": "stream",
     "text": [
      "current problem is: b'40 * 74\\n'\n"
     ]
    }
   ],
   "source": [
    "math_problem = conn.recvline(timeout=5)\n",
    "print(f\"current problem is: {math_problem}\")"
   ]
  },
  {
   "cell_type": "markdown",
   "metadata": {},
   "source": [
    "#### A function to parse the next line"
   ]
  },
  {
   "cell_type": "code",
   "execution_count": 6,
   "metadata": {},
   "outputs": [
    {
     "name": "stdout",
     "output_type": "stream",
     "text": [
      "current problem is: ['40', '*', '74\\n']\n"
     ]
    }
   ],
   "source": [
    "math_problem_ASCII = math_problem.decode('ASCII')\n",
    "print(f\"current problem is: {math_problem_ASCII.split(' ')}\")"
   ]
  },
  {
   "cell_type": "markdown",
   "metadata": {},
   "source": [
    "#### A function to perform calculations"
   ]
  },
  {
   "cell_type": "code",
   "execution_count": 7,
   "metadata": {},
   "outputs": [
    {
     "name": "stdout",
     "output_type": "stream",
     "text": [
      "2960\n"
     ]
    }
   ],
   "source": [
    "def perform_calc (input: list) -> int:\n",
    "    input[0] = int(input[0])\n",
    "    input[2] = int(input[2])\n",
    "    if input[1] == '+':\n",
    "        return input[0]+input[2]\n",
    "    if input[1] == '-':\n",
    "        return input[0]-input[2]\n",
    "    if input[1] == '*':\n",
    "        return input[0]*input[2]     \n",
    "    if input[1] == '//':\n",
    "        return input[0]//input[2]     \n",
    "\n",
    "current_solution = perform_calc(math_problem_ASCII.split(' '))\n",
    "print(current_solution)\n"
   ]
  },
  {
   "cell_type": "markdown",
   "metadata": {},
   "source": [
    "#### A function to automate the responses"
   ]
  },
  {
   "cell_type": "code",
   "execution_count": 8,
   "metadata": {},
   "outputs": [
    {
     "name": "stdout",
     "output_type": "stream",
     "text": [
      "None\n",
      "b'Correct!\\n'\n"
     ]
    }
   ],
   "source": [
    "print(conn.sendline(str(current_solution).encode()))\n",
    "recieved = conn.recvline()\n",
    "print(recieved)\n",
    "count = 1"
   ]
  },
  {
   "cell_type": "code",
   "execution_count": 9,
   "metadata": {},
   "outputs": [
    {
     "name": "stdout",
     "output_type": "stream",
     "text": [
      "count: 2\n",
      "count: 3\n",
      "count: 4\n",
      "count: 5\n",
      "count: 6\n",
      "count: 7\n",
      "count: 8\n",
      "count: 9\n",
      "count: 10\n",
      "count: 11\n",
      "count: 12\n",
      "count: 13\n",
      "count: 14\n",
      "count: 15\n",
      "count: 16\n",
      "count: 17\n",
      "count: 18\n",
      "count: 19\n",
      "count: 20\n",
      "count: 21\n",
      "count: 22\n",
      "count: 23\n",
      "count: 24\n",
      "count: 25\n",
      "count: 26\n",
      "count: 27\n",
      "count: 28\n",
      "count: 29\n",
      "count: 30\n",
      "count: 31\n",
      "count: 32\n",
      "count: 33\n",
      "count: 34\n",
      "count: 35\n",
      "count: 36\n",
      "count: 37\n",
      "count: 38\n",
      "count: 39\n",
      "count: 40\n",
      "count: 41\n",
      "count: 42\n",
      "count: 43\n",
      "count: 44\n",
      "count: 45\n",
      "count: 46\n",
      "count: 47\n",
      "count: 48\n",
      "count: 49\n",
      "count: 50\n",
      "count: 51\n",
      "count: 52\n",
      "count: 53\n",
      "count: 54\n",
      "count: 55\n",
      "count: 56\n",
      "count: 57\n",
      "count: 58\n",
      "count: 59\n",
      "count: 60\n",
      "count: 61\n",
      "count: 62\n",
      "count: 63\n",
      "count: 64\n",
      "count: 65\n",
      "count: 66\n",
      "count: 67\n",
      "count: 68\n",
      "count: 69\n",
      "count: 70\n",
      "count: 71\n",
      "count: 72\n",
      "count: 73\n",
      "count: 74\n",
      "count: 75\n",
      "count: 76\n",
      "count: 77\n",
      "count: 78\n",
      "count: 79\n",
      "count: 80\n",
      "count: 81\n",
      "count: 82\n",
      "count: 83\n",
      "count: 84\n",
      "count: 85\n",
      "count: 86\n",
      "count: 87\n",
      "count: 88\n",
      "count: 89\n",
      "count: 90\n",
      "count: 91\n",
      "count: 92\n",
      "count: 93\n",
      "count: 94\n",
      "count: 95\n",
      "count: 96\n",
      "count: 97\n",
      "count: 98\n",
      "count: 99\n",
      "count: 100\n",
      "count: 101\n",
      "count: 102\n",
      "count: 103\n",
      "count: 104\n",
      "count: 105\n",
      "count: 106\n",
      "count: 107\n",
      "count: 108\n",
      "count: 109\n",
      "count: 110\n",
      "count: 111\n",
      "count: 112\n",
      "count: 113\n",
      "count: 114\n",
      "count: 115\n",
      "count: 116\n",
      "count: 117\n",
      "count: 118\n",
      "count: 119\n",
      "count: 120\n",
      "count: 121\n",
      "count: 122\n",
      "count: 123\n",
      "count: 124\n",
      "count: 125\n",
      "count: 126\n",
      "count: 127\n",
      "count: 128\n",
      "count: 129\n",
      "count: 130\n",
      "count: 131\n",
      "count: 132\n",
      "count: 133\n",
      "count: 134\n",
      "count: 135\n",
      "count: 136\n",
      "count: 137\n",
      "count: 138\n",
      "count: 139\n",
      "count: 140\n",
      "count: 141\n",
      "count: 142\n",
      "count: 143\n",
      "count: 144\n",
      "count: 145\n",
      "count: 146\n",
      "count: 147\n",
      "count: 148\n",
      "count: 149\n",
      "count: 150\n",
      "count: 151\n",
      "count: 152\n",
      "count: 153\n",
      "count: 154\n",
      "count: 155\n",
      "count: 156\n",
      "count: 157\n",
      "count: 158\n",
      "count: 159\n",
      "count: 160\n",
      "count: 161\n",
      "count: 162\n",
      "count: 163\n",
      "count: 164\n",
      "count: 165\n",
      "count: 166\n",
      "count: 167\n",
      "count: 168\n",
      "count: 169\n",
      "count: 170\n",
      "count: 171\n",
      "count: 172\n",
      "count: 173\n",
      "count: 174\n",
      "count: 175\n",
      "count: 176\n",
      "count: 177\n",
      "count: 178\n",
      "count: 179\n",
      "count: 180\n",
      "count: 181\n",
      "count: 182\n",
      "count: 183\n",
      "count: 184\n",
      "count: 185\n",
      "count: 186\n",
      "count: 187\n",
      "count: 188\n",
      "count: 189\n",
      "count: 190\n",
      "count: 191\n",
      "count: 192\n",
      "count: 193\n",
      "count: 194\n",
      "count: 195\n",
      "count: 196\n",
      "count: 197\n",
      "count: 198\n",
      "count: 199\n",
      "count: 200\n",
      "count: 201\n",
      "count: 202\n",
      "count: 203\n",
      "count: 204\n",
      "count: 205\n",
      "count: 206\n",
      "count: 207\n",
      "count: 208\n",
      "count: 209\n",
      "count: 210\n",
      "count: 211\n",
      "count: 212\n",
      "count: 213\n",
      "count: 214\n",
      "count: 215\n",
      "count: 216\n",
      "count: 217\n",
      "count: 218\n",
      "count: 219\n",
      "count: 220\n"
     ]
    },
    {
     "ename": "EOFError",
     "evalue": "",
     "output_type": "error",
     "traceback": [
      "\u001b[1;31m---------------------------------------------------------------------------\u001b[0m",
      "\u001b[1;31mEOFError\u001b[0m                                  Traceback (most recent call last)",
      "\u001b[1;32mc:\\Users\\richa\\Documents\\code\\pyrva\\coding night\\20220623\\quickmaths_starter.ipynb Cell 27'\u001b[0m in \u001b[0;36m<cell line: 1>\u001b[1;34m()\u001b[0m\n\u001b[0;32m      <a href='vscode-notebook-cell:/c%3A/Users/richa/Documents/code/pyrva/coding%20night/20220623/quickmaths_starter.ipynb#ch0000034?line=0'>1</a>\u001b[0m \u001b[39mwhile\u001b[39;00m count \u001b[39m<\u001b[39m \u001b[39m1000\u001b[39m:\n\u001b[1;32m----> <a href='vscode-notebook-cell:/c%3A/Users/richa/Documents/code/pyrva/coding%20night/20220623/quickmaths_starter.ipynb#ch0000034?line=1'>2</a>\u001b[0m     math_problem \u001b[39m=\u001b[39m conn\u001b[39m.\u001b[39;49mrecvline()\n\u001b[0;32m      <a href='vscode-notebook-cell:/c%3A/Users/richa/Documents/code/pyrva/coding%20night/20220623/quickmaths_starter.ipynb#ch0000034?line=2'>3</a>\u001b[0m     math_problem_ASCII \u001b[39m=\u001b[39m math_problem\u001b[39m.\u001b[39mdecode(\u001b[39m'\u001b[39m\u001b[39mASCII\u001b[39m\u001b[39m'\u001b[39m)\n\u001b[0;32m      <a href='vscode-notebook-cell:/c%3A/Users/richa/Documents/code/pyrva/coding%20night/20220623/quickmaths_starter.ipynb#ch0000034?line=3'>4</a>\u001b[0m     current_solution \u001b[39m=\u001b[39m perform_calc(math_problem_ASCII\u001b[39m.\u001b[39msplit(\u001b[39m'\u001b[39m\u001b[39m \u001b[39m\u001b[39m'\u001b[39m))\n",
      "File \u001b[1;32mc:\\Users\\richa\\Documents\\code\\pyrva\\coding night\\20220623\\.venv\\lib\\site-packages\\pwnlib\\tubes\\tube.py:490\u001b[0m, in \u001b[0;36mtube.recvline\u001b[1;34m(self, keepends, timeout)\u001b[0m\n\u001b[0;32m    456\u001b[0m \u001b[39mdef\u001b[39;00m \u001b[39mrecvline\u001b[39m(\u001b[39mself\u001b[39m, keepends\u001b[39m=\u001b[39m\u001b[39mTrue\u001b[39;00m, timeout\u001b[39m=\u001b[39mdefault):\n\u001b[0;32m    457\u001b[0m     \u001b[39mr\u001b[39m\u001b[39m\"\"\"recvline(keepends=True, timeout=default) -> bytes\u001b[39;00m\n\u001b[0;32m    458\u001b[0m \n\u001b[0;32m    459\u001b[0m \u001b[39m    Receive a single line from the tube.\u001b[39;00m\n\u001b[1;32m   (...)\u001b[0m\n\u001b[0;32m    488\u001b[0m \u001b[39m        b'Foo\\nBar'\u001b[39;00m\n\u001b[0;32m    489\u001b[0m \u001b[39m    \"\"\"\u001b[39;00m\n\u001b[1;32m--> 490\u001b[0m     \u001b[39mreturn\u001b[39;00m \u001b[39mself\u001b[39;49m\u001b[39m.\u001b[39;49mrecvuntil(\u001b[39mself\u001b[39;49m\u001b[39m.\u001b[39;49mnewline, drop \u001b[39m=\u001b[39;49m \u001b[39mnot\u001b[39;49;00m keepends, timeout \u001b[39m=\u001b[39;49m timeout)\n",
      "File \u001b[1;32mc:\\Users\\richa\\Documents\\code\\pyrva\\coding night\\20220623\\.venv\\lib\\site-packages\\pwnlib\\tubes\\tube.py:333\u001b[0m, in \u001b[0;36mtube.recvuntil\u001b[1;34m(self, delims, drop, timeout)\u001b[0m\n\u001b[0;32m    331\u001b[0m \u001b[39mwhile\u001b[39;00m \u001b[39mself\u001b[39m\u001b[39m.\u001b[39mcountdown_active():\n\u001b[0;32m    332\u001b[0m     \u001b[39mtry\u001b[39;00m:\n\u001b[1;32m--> 333\u001b[0m         res \u001b[39m=\u001b[39m \u001b[39mself\u001b[39;49m\u001b[39m.\u001b[39;49mrecv(timeout\u001b[39m=\u001b[39;49m\u001b[39mself\u001b[39;49m\u001b[39m.\u001b[39;49mtimeout)\n\u001b[0;32m    334\u001b[0m     \u001b[39mexcept\u001b[39;00m \u001b[39mException\u001b[39;00m:\n\u001b[0;32m    335\u001b[0m         \u001b[39mself\u001b[39m\u001b[39m.\u001b[39munrecv(\u001b[39mb\u001b[39m\u001b[39m'\u001b[39m\u001b[39m'\u001b[39m\u001b[39m.\u001b[39mjoin(data) \u001b[39m+\u001b[39m top)\n",
      "File \u001b[1;32mc:\\Users\\richa\\Documents\\code\\pyrva\\coding night\\20220623\\.venv\\lib\\site-packages\\pwnlib\\tubes\\tube.py:105\u001b[0m, in \u001b[0;36mtube.recv\u001b[1;34m(self, numb, timeout)\u001b[0m\n\u001b[0;32m     74\u001b[0m \u001b[39mr\u001b[39m\u001b[39m\"\"\"recv(numb = 4096, timeout = default) -> bytes\u001b[39;00m\n\u001b[0;32m     75\u001b[0m \n\u001b[0;32m     76\u001b[0m \u001b[39mReceives up to `numb` bytes of data from the tube, and returns\u001b[39;00m\n\u001b[1;32m   (...)\u001b[0m\n\u001b[0;32m    102\u001b[0m \u001b[39m        b'Hello, world'\u001b[39;00m\n\u001b[0;32m    103\u001b[0m \u001b[39m\"\"\"\u001b[39;00m\n\u001b[0;32m    104\u001b[0m numb \u001b[39m=\u001b[39m \u001b[39mself\u001b[39m\u001b[39m.\u001b[39mbuffer\u001b[39m.\u001b[39mget_fill_size(numb)\n\u001b[1;32m--> 105\u001b[0m \u001b[39mreturn\u001b[39;00m \u001b[39mself\u001b[39;49m\u001b[39m.\u001b[39;49m_recv(numb, timeout) \u001b[39mor\u001b[39;00m \u001b[39mb\u001b[39m\u001b[39m'\u001b[39m\u001b[39m'\u001b[39m\n",
      "File \u001b[1;32mc:\\Users\\richa\\Documents\\code\\pyrva\\coding night\\20220623\\.venv\\lib\\site-packages\\pwnlib\\tubes\\tube.py:183\u001b[0m, in \u001b[0;36mtube._recv\u001b[1;34m(self, numb, timeout)\u001b[0m\n\u001b[0;32m    179\u001b[0m numb \u001b[39m=\u001b[39m \u001b[39mself\u001b[39m\u001b[39m.\u001b[39mbuffer\u001b[39m.\u001b[39mget_fill_size(numb)\n\u001b[0;32m    181\u001b[0m \u001b[39m# No buffered data, could not put anything in the buffer\u001b[39;00m\n\u001b[0;32m    182\u001b[0m \u001b[39m# before timeout.\u001b[39;00m\n\u001b[1;32m--> 183\u001b[0m \u001b[39mif\u001b[39;00m \u001b[39mnot\u001b[39;00m \u001b[39mself\u001b[39m\u001b[39m.\u001b[39mbuffer \u001b[39mand\u001b[39;00m \u001b[39mnot\u001b[39;00m \u001b[39mself\u001b[39;49m\u001b[39m.\u001b[39;49m_fillbuffer(timeout):\n\u001b[0;32m    184\u001b[0m     \u001b[39mreturn\u001b[39;00m \u001b[39mb\u001b[39m\u001b[39m'\u001b[39m\u001b[39m'\u001b[39m\n\u001b[0;32m    186\u001b[0m \u001b[39mreturn\u001b[39;00m \u001b[39mself\u001b[39m\u001b[39m.\u001b[39mbuffer\u001b[39m.\u001b[39mget(numb)\n",
      "File \u001b[1;32mc:\\Users\\richa\\Documents\\code\\pyrva\\coding night\\20220623\\.venv\\lib\\site-packages\\pwnlib\\tubes\\tube.py:154\u001b[0m, in \u001b[0;36mtube._fillbuffer\u001b[1;34m(self, timeout)\u001b[0m\n\u001b[0;32m    151\u001b[0m data \u001b[39m=\u001b[39m \u001b[39mb\u001b[39m\u001b[39m'\u001b[39m\u001b[39m'\u001b[39m\n\u001b[0;32m    153\u001b[0m \u001b[39mwith\u001b[39;00m \u001b[39mself\u001b[39m\u001b[39m.\u001b[39mlocal(timeout):\n\u001b[1;32m--> 154\u001b[0m     data \u001b[39m=\u001b[39m \u001b[39mself\u001b[39;49m\u001b[39m.\u001b[39;49mrecv_raw(\u001b[39mself\u001b[39;49m\u001b[39m.\u001b[39;49mbuffer\u001b[39m.\u001b[39;49mget_fill_size())\n\u001b[0;32m    156\u001b[0m \u001b[39mif\u001b[39;00m data \u001b[39mand\u001b[39;00m \u001b[39mself\u001b[39m\u001b[39m.\u001b[39misEnabledFor(logging\u001b[39m.\u001b[39mDEBUG):\n\u001b[0;32m    157\u001b[0m     \u001b[39mself\u001b[39m\u001b[39m.\u001b[39mdebug(\u001b[39m'\u001b[39m\u001b[39mReceived \u001b[39m\u001b[39m%#x\u001b[39;00m\u001b[39m bytes:\u001b[39m\u001b[39m'\u001b[39m \u001b[39m%\u001b[39m \u001b[39mlen\u001b[39m(data))\n",
      "File \u001b[1;32mc:\\Users\\richa\\Documents\\code\\pyrva\\coding night\\20220623\\.venv\\lib\\site-packages\\pwnlib\\tubes\\sock.py:56\u001b[0m, in \u001b[0;36msock.recv_raw\u001b[1;34m(self, numb, *a)\u001b[0m\n\u001b[0;32m     54\u001b[0m \u001b[39mif\u001b[39;00m \u001b[39mnot\u001b[39;00m data:\n\u001b[0;32m     55\u001b[0m     \u001b[39mself\u001b[39m\u001b[39m.\u001b[39mshutdown(\u001b[39m\"\u001b[39m\u001b[39mrecv\u001b[39m\u001b[39m\"\u001b[39m)\n\u001b[1;32m---> 56\u001b[0m     \u001b[39mraise\u001b[39;00m \u001b[39mEOFError\u001b[39;00m\n\u001b[0;32m     58\u001b[0m \u001b[39mreturn\u001b[39;00m data\n",
      "\u001b[1;31mEOFError\u001b[0m: "
     ]
    }
   ],
   "source": [
    "while count < 1000:\n",
    "    math_problem = conn.recvline()\n",
    "    math_problem_ASCII = math_problem.decode('ASCII')\n",
    "    current_solution = perform_calc(math_problem_ASCII.split(' '))\n",
    "    conn.sendline(str(current_solution).encode())\n",
    "    conn.recvline()\n",
    "    count += 1\n",
    "    print(f'count: {count}')"
   ]
  },
  {
   "cell_type": "code",
   "execution_count": null,
   "metadata": {},
   "outputs": [],
   "source": [
    "print(conn.recvline())"
   ]
  },
  {
   "cell_type": "code",
   "execution_count": null,
   "metadata": {},
   "outputs": [],
   "source": [
    "conn.close()"
   ]
  },
  {
   "cell_type": "markdown",
   "metadata": {},
   "source": [
    "#### Try it yourself...\n",
    "This challenge was originally seen during the [2022 UMASS CTF](https://ctftime.org/event/1561/) event. You can find the original source code here:\n",
    "\n",
    "https://github.com/UMassCybersecurity/UMassCTF-2022-challenges/tree/main/misc/quickmaths/src\n",
    "\n"
   ]
  },
  {
   "cell_type": "markdown",
   "metadata": {},
   "source": [
    "##### Run locally with Docker\n",
    "\n",
    "[Docker](https://www.docker.com/products/docker-desktop/) is virtualization software for running apps in a sandboxed environment on your host machine.\n",
    "\n",
    "After installing the docker daemon, run these commands from the folder containing the `Dockerfile`.\n",
    "\n",
    "```\n",
    "docker build -t quickmaths .\n",
    "docker run --name quickmaths --rm -d -p 1228:1228 quickmaths\n",
    "```\n",
    "`-t` will create a new container image with the given name.\n",
    "\n",
    "`--name` can be used to give the running container a name instead of a randomly generated name.\n",
    "\n",
    "`--rm` will delete the container when it is stopped.\n",
    "\n",
    "`-d` will start the container as a background process.\n",
    "\n",
    "`-p` will map the container's port to your localhost.\n",
    "\n",
    "##### Stop the container and delete the image\n",
    "```\n",
    "docker stop quickmaths\n",
    "docker rmi quickmaths\n",
    "```\n"
   ]
  }
 ],
 "metadata": {
  "kernelspec": {
   "display_name": "Python 3.10.5 ('.venv': venv)",
   "language": "python",
   "name": "python3"
  },
  "language_info": {
   "codemirror_mode": {
    "name": "ipython",
    "version": 3
   },
   "file_extension": ".py",
   "mimetype": "text/x-python",
   "name": "python",
   "nbconvert_exporter": "python",
   "pygments_lexer": "ipython3",
   "version": "3.10.5"
  },
  "orig_nbformat": 4,
  "vscode": {
   "interpreter": {
    "hash": "9b85b85e34c66e8425d9af0652846024dfb49b702a6e5b241bf7fa521c3a0b7b"
   }
  }
 },
 "nbformat": 4,
 "nbformat_minor": 2
}
